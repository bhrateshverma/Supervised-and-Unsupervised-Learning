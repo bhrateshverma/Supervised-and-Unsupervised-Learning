{
 "cells": [
  {
   "cell_type": "code",
   "execution_count": 1,
   "metadata": {},
   "outputs": [],
   "source": [
    "from sklearn.linear_model import LogisticRegression, SGDClassifier\n",
    "from sklearn.tree import DecisionTreeClassifier\n",
    "from sklearn.neighbors import KNeighborsClassifier\n",
    "from sklearn.ensemble import RandomForestClassifier, AdaBoostClassifier, GradientBoostingClassifier\n",
    "from sklearn.svm import SVC"
   ]
  },
  {
   "cell_type": "code",
   "execution_count": 2,
   "metadata": {},
   "outputs": [],
   "source": [
    "from sklearn.preprocessing import LabelEncoder, StandardScaler, OneHotEncoder\n",
    "\n",
    "import pandas as pd\n",
    "import numpy as np\n",
    "\n",
    "# importing ploting libraries\n",
    "import matplotlib.pyplot as plt   \n",
    "# To enable plotting graphs in Jupyter notebook\n",
    "%matplotlib inline\n",
    "#importing seaborn for statistical plots\n",
    "import seaborn as sns"
   ]
  },
  {
   "cell_type": "code",
   "execution_count": 3,
   "metadata": {},
   "outputs": [
    {
     "name": "stdout",
     "output_type": "stream",
     "text": [
      "(1000, 21)\n",
      "Index(['existingchecking', 'duration', 'credithistory', 'purpose',\n",
      "       'creditamount', 'savings', 'employmentsince', 'installmentrate',\n",
      "       'statussex', 'otherdebtors', 'residencesince', 'property', 'age',\n",
      "       'otherinstallmentplans', 'housing', 'existingcredits', 'job',\n",
      "       'peopleliable', 'telephone', 'foreignworker', 'classification'],\n",
      "      dtype='object')\n"
     ]
    },
    {
     "data": {
      "text/html": [
       "<div>\n",
       "<style scoped>\n",
       "    .dataframe tbody tr th:only-of-type {\n",
       "        vertical-align: middle;\n",
       "    }\n",
       "\n",
       "    .dataframe tbody tr th {\n",
       "        vertical-align: top;\n",
       "    }\n",
       "\n",
       "    .dataframe thead th {\n",
       "        text-align: right;\n",
       "    }\n",
       "</style>\n",
       "<table border=\"1\" class=\"dataframe\">\n",
       "  <thead>\n",
       "    <tr style=\"text-align: right;\">\n",
       "      <th></th>\n",
       "      <th>existingchecking</th>\n",
       "      <th>duration</th>\n",
       "      <th>credithistory</th>\n",
       "      <th>purpose</th>\n",
       "      <th>creditamount</th>\n",
       "      <th>savings</th>\n",
       "      <th>employmentsince</th>\n",
       "      <th>installmentrate</th>\n",
       "      <th>statussex</th>\n",
       "      <th>otherdebtors</th>\n",
       "      <th>...</th>\n",
       "      <th>property</th>\n",
       "      <th>age</th>\n",
       "      <th>otherinstallmentplans</th>\n",
       "      <th>housing</th>\n",
       "      <th>existingcredits</th>\n",
       "      <th>job</th>\n",
       "      <th>peopleliable</th>\n",
       "      <th>telephone</th>\n",
       "      <th>foreignworker</th>\n",
       "      <th>classification</th>\n",
       "    </tr>\n",
       "  </thead>\n",
       "  <tbody>\n",
       "    <tr>\n",
       "      <th>0</th>\n",
       "      <td>A11</td>\n",
       "      <td>6</td>\n",
       "      <td>A34</td>\n",
       "      <td>A43</td>\n",
       "      <td>1169</td>\n",
       "      <td>A65</td>\n",
       "      <td>A75</td>\n",
       "      <td>4</td>\n",
       "      <td>A93</td>\n",
       "      <td>A101</td>\n",
       "      <td>...</td>\n",
       "      <td>A121</td>\n",
       "      <td>67</td>\n",
       "      <td>A143</td>\n",
       "      <td>A152</td>\n",
       "      <td>2</td>\n",
       "      <td>A173</td>\n",
       "      <td>1</td>\n",
       "      <td>A192</td>\n",
       "      <td>A201</td>\n",
       "      <td>1</td>\n",
       "    </tr>\n",
       "    <tr>\n",
       "      <th>1</th>\n",
       "      <td>A12</td>\n",
       "      <td>48</td>\n",
       "      <td>A32</td>\n",
       "      <td>A43</td>\n",
       "      <td>5951</td>\n",
       "      <td>A61</td>\n",
       "      <td>A73</td>\n",
       "      <td>2</td>\n",
       "      <td>A92</td>\n",
       "      <td>A101</td>\n",
       "      <td>...</td>\n",
       "      <td>A121</td>\n",
       "      <td>22</td>\n",
       "      <td>A143</td>\n",
       "      <td>A152</td>\n",
       "      <td>1</td>\n",
       "      <td>A173</td>\n",
       "      <td>1</td>\n",
       "      <td>A191</td>\n",
       "      <td>A201</td>\n",
       "      <td>2</td>\n",
       "    </tr>\n",
       "    <tr>\n",
       "      <th>2</th>\n",
       "      <td>A14</td>\n",
       "      <td>12</td>\n",
       "      <td>A34</td>\n",
       "      <td>A46</td>\n",
       "      <td>2096</td>\n",
       "      <td>A61</td>\n",
       "      <td>A74</td>\n",
       "      <td>2</td>\n",
       "      <td>A93</td>\n",
       "      <td>A101</td>\n",
       "      <td>...</td>\n",
       "      <td>A121</td>\n",
       "      <td>49</td>\n",
       "      <td>A143</td>\n",
       "      <td>A152</td>\n",
       "      <td>1</td>\n",
       "      <td>A172</td>\n",
       "      <td>2</td>\n",
       "      <td>A191</td>\n",
       "      <td>A201</td>\n",
       "      <td>1</td>\n",
       "    </tr>\n",
       "    <tr>\n",
       "      <th>3</th>\n",
       "      <td>A11</td>\n",
       "      <td>42</td>\n",
       "      <td>A32</td>\n",
       "      <td>A42</td>\n",
       "      <td>7882</td>\n",
       "      <td>A61</td>\n",
       "      <td>A74</td>\n",
       "      <td>2</td>\n",
       "      <td>A93</td>\n",
       "      <td>A103</td>\n",
       "      <td>...</td>\n",
       "      <td>A122</td>\n",
       "      <td>45</td>\n",
       "      <td>A143</td>\n",
       "      <td>A153</td>\n",
       "      <td>1</td>\n",
       "      <td>A173</td>\n",
       "      <td>2</td>\n",
       "      <td>A191</td>\n",
       "      <td>A201</td>\n",
       "      <td>1</td>\n",
       "    </tr>\n",
       "    <tr>\n",
       "      <th>4</th>\n",
       "      <td>A11</td>\n",
       "      <td>24</td>\n",
       "      <td>A33</td>\n",
       "      <td>A40</td>\n",
       "      <td>4870</td>\n",
       "      <td>A61</td>\n",
       "      <td>A73</td>\n",
       "      <td>3</td>\n",
       "      <td>A93</td>\n",
       "      <td>A101</td>\n",
       "      <td>...</td>\n",
       "      <td>A124</td>\n",
       "      <td>53</td>\n",
       "      <td>A143</td>\n",
       "      <td>A153</td>\n",
       "      <td>2</td>\n",
       "      <td>A173</td>\n",
       "      <td>2</td>\n",
       "      <td>A191</td>\n",
       "      <td>A201</td>\n",
       "      <td>2</td>\n",
       "    </tr>\n",
       "    <tr>\n",
       "      <th>5</th>\n",
       "      <td>A14</td>\n",
       "      <td>36</td>\n",
       "      <td>A32</td>\n",
       "      <td>A46</td>\n",
       "      <td>9055</td>\n",
       "      <td>A65</td>\n",
       "      <td>A73</td>\n",
       "      <td>2</td>\n",
       "      <td>A93</td>\n",
       "      <td>A101</td>\n",
       "      <td>...</td>\n",
       "      <td>A124</td>\n",
       "      <td>35</td>\n",
       "      <td>A143</td>\n",
       "      <td>A153</td>\n",
       "      <td>1</td>\n",
       "      <td>A172</td>\n",
       "      <td>2</td>\n",
       "      <td>A192</td>\n",
       "      <td>A201</td>\n",
       "      <td>1</td>\n",
       "    </tr>\n",
       "    <tr>\n",
       "      <th>6</th>\n",
       "      <td>A14</td>\n",
       "      <td>24</td>\n",
       "      <td>A32</td>\n",
       "      <td>A42</td>\n",
       "      <td>2835</td>\n",
       "      <td>A63</td>\n",
       "      <td>A75</td>\n",
       "      <td>3</td>\n",
       "      <td>A93</td>\n",
       "      <td>A101</td>\n",
       "      <td>...</td>\n",
       "      <td>A122</td>\n",
       "      <td>53</td>\n",
       "      <td>A143</td>\n",
       "      <td>A152</td>\n",
       "      <td>1</td>\n",
       "      <td>A173</td>\n",
       "      <td>1</td>\n",
       "      <td>A191</td>\n",
       "      <td>A201</td>\n",
       "      <td>1</td>\n",
       "    </tr>\n",
       "    <tr>\n",
       "      <th>7</th>\n",
       "      <td>A12</td>\n",
       "      <td>36</td>\n",
       "      <td>A32</td>\n",
       "      <td>A41</td>\n",
       "      <td>6948</td>\n",
       "      <td>A61</td>\n",
       "      <td>A73</td>\n",
       "      <td>2</td>\n",
       "      <td>A93</td>\n",
       "      <td>A101</td>\n",
       "      <td>...</td>\n",
       "      <td>A123</td>\n",
       "      <td>35</td>\n",
       "      <td>A143</td>\n",
       "      <td>A151</td>\n",
       "      <td>1</td>\n",
       "      <td>A174</td>\n",
       "      <td>1</td>\n",
       "      <td>A192</td>\n",
       "      <td>A201</td>\n",
       "      <td>1</td>\n",
       "    </tr>\n",
       "    <tr>\n",
       "      <th>8</th>\n",
       "      <td>A14</td>\n",
       "      <td>12</td>\n",
       "      <td>A32</td>\n",
       "      <td>A43</td>\n",
       "      <td>3059</td>\n",
       "      <td>A64</td>\n",
       "      <td>A74</td>\n",
       "      <td>2</td>\n",
       "      <td>A91</td>\n",
       "      <td>A101</td>\n",
       "      <td>...</td>\n",
       "      <td>A121</td>\n",
       "      <td>61</td>\n",
       "      <td>A143</td>\n",
       "      <td>A152</td>\n",
       "      <td>1</td>\n",
       "      <td>A172</td>\n",
       "      <td>1</td>\n",
       "      <td>A191</td>\n",
       "      <td>A201</td>\n",
       "      <td>1</td>\n",
       "    </tr>\n",
       "    <tr>\n",
       "      <th>9</th>\n",
       "      <td>A12</td>\n",
       "      <td>30</td>\n",
       "      <td>A34</td>\n",
       "      <td>A40</td>\n",
       "      <td>5234</td>\n",
       "      <td>A61</td>\n",
       "      <td>A71</td>\n",
       "      <td>4</td>\n",
       "      <td>A94</td>\n",
       "      <td>A101</td>\n",
       "      <td>...</td>\n",
       "      <td>A123</td>\n",
       "      <td>28</td>\n",
       "      <td>A143</td>\n",
       "      <td>A152</td>\n",
       "      <td>2</td>\n",
       "      <td>A174</td>\n",
       "      <td>1</td>\n",
       "      <td>A191</td>\n",
       "      <td>A201</td>\n",
       "      <td>2</td>\n",
       "    </tr>\n",
       "  </tbody>\n",
       "</table>\n",
       "<p>10 rows × 21 columns</p>\n",
       "</div>"
      ],
      "text/plain": [
       "  existingchecking  duration credithistory purpose  creditamount savings  \\\n",
       "0              A11         6           A34     A43          1169     A65   \n",
       "1              A12        48           A32     A43          5951     A61   \n",
       "2              A14        12           A34     A46          2096     A61   \n",
       "3              A11        42           A32     A42          7882     A61   \n",
       "4              A11        24           A33     A40          4870     A61   \n",
       "5              A14        36           A32     A46          9055     A65   \n",
       "6              A14        24           A32     A42          2835     A63   \n",
       "7              A12        36           A32     A41          6948     A61   \n",
       "8              A14        12           A32     A43          3059     A64   \n",
       "9              A12        30           A34     A40          5234     A61   \n",
       "\n",
       "  employmentsince  installmentrate statussex otherdebtors  ...  property age  \\\n",
       "0             A75                4       A93         A101  ...      A121  67   \n",
       "1             A73                2       A92         A101  ...      A121  22   \n",
       "2             A74                2       A93         A101  ...      A121  49   \n",
       "3             A74                2       A93         A103  ...      A122  45   \n",
       "4             A73                3       A93         A101  ...      A124  53   \n",
       "5             A73                2       A93         A101  ...      A124  35   \n",
       "6             A75                3       A93         A101  ...      A122  53   \n",
       "7             A73                2       A93         A101  ...      A123  35   \n",
       "8             A74                2       A91         A101  ...      A121  61   \n",
       "9             A71                4       A94         A101  ...      A123  28   \n",
       "\n",
       "   otherinstallmentplans housing existingcredits   job peopleliable  \\\n",
       "0                   A143    A152               2  A173            1   \n",
       "1                   A143    A152               1  A173            1   \n",
       "2                   A143    A152               1  A172            2   \n",
       "3                   A143    A153               1  A173            2   \n",
       "4                   A143    A153               2  A173            2   \n",
       "5                   A143    A153               1  A172            2   \n",
       "6                   A143    A152               1  A173            1   \n",
       "7                   A143    A151               1  A174            1   \n",
       "8                   A143    A152               1  A172            1   \n",
       "9                   A143    A152               2  A174            1   \n",
       "\n",
       "   telephone foreignworker classification  \n",
       "0       A192          A201              1  \n",
       "1       A191          A201              2  \n",
       "2       A191          A201              1  \n",
       "3       A191          A201              1  \n",
       "4       A191          A201              2  \n",
       "5       A192          A201              1  \n",
       "6       A191          A201              1  \n",
       "7       A192          A201              1  \n",
       "8       A191          A201              1  \n",
       "9       A191          A201              2  \n",
       "\n",
       "[10 rows x 21 columns]"
      ]
     },
     "execution_count": 3,
     "metadata": {},
     "output_type": "execute_result"
    }
   ],
   "source": [
    "file = 'german.data'\n",
    "\n",
    "names = ['existingchecking', 'duration', 'credithistory', 'purpose', 'creditamount', \n",
    "         'savings', 'employmentsince', 'installmentrate', 'statussex', 'otherdebtors', \n",
    "         'residencesince', 'property', 'age', 'otherinstallmentplans', 'housing', \n",
    "         'existingcredits', 'job', 'peopleliable', 'telephone', 'foreignworker', 'classification']\n",
    "\n",
    "german_credit = pd.read_csv(file,names = names, delimiter=' ')\n",
    "print(german_credit.shape)\n",
    "print (german_credit.columns)\n",
    "german_credit.head(10)"
   ]
  },
  {
   "cell_type": "code",
   "execution_count": 4,
   "metadata": {},
   "outputs": [
    {
     "data": {
      "text/plain": [
       "existingchecking         0\n",
       "duration                 0\n",
       "credithistory            0\n",
       "purpose                  0\n",
       "creditamount             0\n",
       "savings                  0\n",
       "employmentsince          0\n",
       "installmentrate          0\n",
       "statussex                0\n",
       "otherdebtors             0\n",
       "residencesince           0\n",
       "property                 0\n",
       "age                      0\n",
       "otherinstallmentplans    0\n",
       "housing                  0\n",
       "existingcredits          0\n",
       "job                      0\n",
       "peopleliable             0\n",
       "telephone                0\n",
       "foreignworker            0\n",
       "classification           0\n",
       "dtype: int64"
      ]
     },
     "execution_count": 4,
     "metadata": {},
     "output_type": "execute_result"
    }
   ],
   "source": [
    "german_credit.isna().sum()"
   ]
  },
  {
   "cell_type": "markdown",
   "metadata": {},
   "source": []
  },
  {
   "cell_type": "code",
   "execution_count": 5,
   "metadata": {},
   "outputs": [
    {
     "data": {
      "text/plain": [
       "1    700\n",
       "0    300\n",
       "Name: classification, dtype: int64"
      ]
     },
     "execution_count": 5,
     "metadata": {},
     "output_type": "execute_result"
    }
   ],
   "source": [
    "# Binarize the y output for easier use\n",
    "german_credit.classification.replace([1,2], [1,0], inplace=True)\n",
    "# Print number of 'good' credits (should be 700) and 'bad credits (should be 300)\n",
    "german_credit.classification.value_counts()"
   ]
  },
  {
   "cell_type": "code",
   "execution_count": 6,
   "metadata": {},
   "outputs": [],
   "source": [
    "#numerical variables labels\n",
    "numvar = ['creditamount', 'duration', 'installmentrate', 'residencesince', 'age', \n",
    "           'existingcredits', 'peopleliable', 'classification']\n",
    "\n",
    "# Standardization\n",
    "numdata_std = pd.DataFrame(StandardScaler().fit_transform(german_credit[numvar].drop(['classification'], axis=1)))"
   ]
  },
  {
   "cell_type": "markdown",
   "metadata": {},
   "source": [
    "# Encoding Categorical Feature"
   ]
  },
  {
   "cell_type": "code",
   "execution_count": 7,
   "metadata": {},
   "outputs": [
    {
     "name": "stdout",
     "output_type": "stream",
     "text": [
      "existingchecking :  ['A11' 'A12' 'A14' 'A13']\n",
      "existingchecking :  [0 1 3 2]\n",
      "credithistory :  ['A34' 'A32' 'A33' 'A30' 'A31']\n",
      "credithistory :  [4 2 3 0 1]\n",
      "purpose :  ['A43' 'A46' 'A42' 'A40' 'A41' 'A49' 'A44' 'A45' 'A410' 'A48']\n",
      "purpose :  [4 7 3 0 1 9 5 6 2 8]\n",
      "savings :  ['A65' 'A61' 'A63' 'A64' 'A62']\n",
      "savings :  [4 0 2 3 1]\n",
      "employmentsince :  ['A75' 'A73' 'A74' 'A71' 'A72']\n",
      "employmentsince :  [4 2 3 0 1]\n",
      "statussex :  ['A93' 'A92' 'A91' 'A94']\n",
      "statussex :  [2 1 0 3]\n",
      "otherdebtors :  ['A101' 'A103' 'A102']\n",
      "otherdebtors :  [0 2 1]\n",
      "property :  ['A121' 'A122' 'A124' 'A123']\n",
      "property :  [0 1 3 2]\n",
      "otherinstallmentplans :  ['A143' 'A141' 'A142']\n",
      "otherinstallmentplans :  [2 0 1]\n",
      "housing :  ['A152' 'A153' 'A151']\n",
      "housing :  [1 2 0]\n",
      "job :  ['A173' 'A172' 'A174' 'A171']\n",
      "job :  [2 1 3 0]\n",
      "telephone :  ['A192' 'A191']\n",
      "telephone :  [1 0]\n",
      "foreignworker :  ['A201' 'A202']\n",
      "foreignworker :  [0 1]\n"
     ]
    }
   ],
   "source": [
    "#Labelencoding to transform categorical to numerical, Enables better Visualization than one hot encoding\n",
    "\n",
    "from collections import defaultdict\n",
    "\n",
    "#categorical variables labels\n",
    "catvar = ['existingchecking', 'credithistory', 'purpose', 'savings', 'employmentsince',\n",
    "           'statussex', 'otherdebtors', 'property', 'otherinstallmentplans', 'housing', 'job', \n",
    "           'telephone', 'foreignworker']\n",
    "\n",
    "e = defaultdict(LabelEncoder)\n",
    "\n",
    "# Encoding the variable\n",
    "encdata = german_credit[catvar].apply(lambda x: e[x.name].fit_transform(x))\n",
    "\n",
    "# print transformations\n",
    "for x in range(len(catvar)):\n",
    "    print(catvar[x],\": \", german_credit[catvar[x]].unique())\n",
    "    print(catvar[x],\": \", encdata[catvar[x]].unique())\n",
    "\n",
    "#One hot encoding, create dummy variables for every category of every categorical variable\n",
    "dummyvar = pd.get_dummies(german_credit[catvar])"
   ]
  },
  {
   "cell_type": "markdown",
   "metadata": {},
   "source": [
    "## Concate Transformed Dataset"
   ]
  },
  {
   "cell_type": "code",
   "execution_count": 8,
   "metadata": {},
   "outputs": [
    {
     "name": "stdout",
     "output_type": "stream",
     "text": [
      "(1000, 62)\n"
     ]
    }
   ],
   "source": [
    "cleaned_data = pd.concat([german_credit[numvar], dummyvar], axis = 1)\n",
    "\n",
    "print(cleaned_data.shape)"
   ]
  },
  {
   "cell_type": "markdown",
   "metadata": {},
   "source": [
    "## Split Training Dataset"
   ]
  },
  {
   "cell_type": "code",
   "execution_count": 9,
   "metadata": {},
   "outputs": [],
   "source": [
    "from sklearn.model_selection import train_test_split\n",
    "\n",
    "X_clean = cleaned_data.drop('classification', axis=1)\n",
    "y_clean = cleaned_data['classification']\n",
    "X_train_clean, X_test_clean, y_train_clean, y_test_clean = train_test_split(X_clean,y_clean,test_size=0.15, random_state=1)"
   ]
  },
  {
   "cell_type": "markdown",
   "metadata": {},
   "source": [
    "## Classification : Models"
   ]
  },
  {
   "cell_type": "markdown",
   "metadata": {},
   "source": [
    "The following classifiers are implemented in the next part:\n",
    "* K Nearest Neighbor\n",
    "* Linear SVM\n",
    "* Logistic Regression\n",
    "* Kernalized SVM\n",
    "* Decision Tree    \n",
    "\n",
    "\n",
    "Here, we are considering AUC-ROC score for evaluation as the goal of AUC is to deal with situations where you have a very skewed sample distribution, and don't want to overfit to a single class. "
   ]
  },
  {
   "cell_type": "markdown",
   "metadata": {},
   "source": [
    "### K Nearest Neighbor Classifier"
   ]
  },
  {
   "cell_type": "code",
   "execution_count": 10,
   "metadata": {},
   "outputs": [
    {
     "name": "stderr",
     "output_type": "stream",
     "text": [
      "C:\\Users\\deepe\\Anaconda3\\envs\\bhratesh_ml\\lib\\site-packages\\sklearn\\model_selection\\_search.py:813: DeprecationWarning: The default of the `iid` parameter will change from True to False in version 0.22 and will be removed in 0.24. This will change numeric results when test-set sizes are unequal.\n",
      "  DeprecationWarning)\n"
     ]
    },
    {
     "data": {
      "text/plain": [
       "GridSearchCV(cv=10, error_score='raise-deprecating',\n",
       "             estimator=KNeighborsClassifier(algorithm='auto', leaf_size=30,\n",
       "                                            metric='minkowski',\n",
       "                                            metric_params=None, n_jobs=None,\n",
       "                                            n_neighbors=5, p=2,\n",
       "                                            weights='uniform'),\n",
       "             iid='warn', n_jobs=None,\n",
       "             param_grid={'n_neighbors': [3, 4, 5, 6, 7, 8, 9, 10, 15]},\n",
       "             pre_dispatch='2*n_jobs', refit=True, return_train_score=False,\n",
       "             scoring='roc_auc', verbose=0)"
      ]
     },
     "execution_count": 10,
     "metadata": {},
     "output_type": "execute_result"
    }
   ],
   "source": [
    "from sklearn.model_selection import GridSearchCV\n",
    "from sklearn.neighbors import KNeighborsClassifier\n",
    "\n",
    "knn = KNeighborsClassifier()\n",
    "\n",
    "#Grid Search Cross-Validation for hyperparameter tuning\n",
    "\n",
    "param_grid = {'n_neighbors':[3, 4, 5, 6, 7, 8, 9, 10, 15]}\n",
    "\n",
    "grid_knn = GridSearchCV(knn, param_grid=param_grid, cv = 10, scoring='roc_auc')\n",
    "grid_knn.fit(X_train_clean, y_train_clean)"
   ]
  },
  {
   "cell_type": "code",
   "execution_count": 11,
   "metadata": {},
   "outputs": [
    {
     "name": "stdout",
     "output_type": "stream",
     "text": [
      "KNN Training Score:  0.8022446229456217\n"
     ]
    }
   ],
   "source": [
    "print(\"KNN Training Score: \",grid_knn.score(X_train_clean, y_train_clean))"
   ]
  },
  {
   "cell_type": "code",
   "execution_count": 12,
   "metadata": {},
   "outputs": [
    {
     "name": "stdout",
     "output_type": "stream",
     "text": [
      "KNN Testing Score:  0.5052257525083612\n"
     ]
    }
   ],
   "source": [
    "print(\"KNN Testing Score: \", grid_knn.score(X_test_clean, y_test_clean))"
   ]
  },
  {
   "cell_type": "code",
   "execution_count": 13,
   "metadata": {},
   "outputs": [
    {
     "name": "stdout",
     "output_type": "stream",
     "text": [
      "Best Parameters for KNN:  {'n_neighbors': 5}\n"
     ]
    }
   ],
   "source": [
    "print(\"Best Parameters for KNN: \", grid_knn.best_params_)"
   ]
  },
  {
   "cell_type": "code",
   "execution_count": 14,
   "metadata": {},
   "outputs": [
    {
     "name": "stdout",
     "output_type": "stream",
     "text": [
      "KNN Mean Test Scores:  [0.56832649 0.56980225 0.57253563 0.56871726 0.56758905 0.56525788\n",
      " 0.56678767 0.55570909 0.55014684]\n"
     ]
    }
   ],
   "source": [
    "print(\"KNN Mean Test Scores: \",grid_knn.cv_results_['mean_test_score'])"
   ]
  },
  {
   "cell_type": "code",
   "execution_count": 15,
   "metadata": {},
   "outputs": [],
   "source": [
    "y_knn_predict = grid_knn.predict(X_test_clean)\n",
    "y_knn_train_predict = grid_knn.predict(X_train_clean)"
   ]
  },
  {
   "cell_type": "code",
   "execution_count": 16,
   "metadata": {},
   "outputs": [
    {
     "name": "stdout",
     "output_type": "stream",
     "text": [
      "Train ROC AUC Score: 0.71\n",
      "Test ROC AUC Score: 0.51 \n"
     ]
    }
   ],
   "source": [
    "from sklearn.metrics import roc_auc_score\n",
    "print('Train ROC AUC Score: %.2f'%roc_auc_score(y_knn_train_predict, y_train_clean))\n",
    "print('Test ROC AUC Score: %.2f '%roc_auc_score(y_knn_predict, y_test_clean))"
   ]
  },
  {
   "cell_type": "code",
   "execution_count": 17,
   "metadata": {},
   "outputs": [],
   "source": [
    "train_score_list = []\n",
    "test_score_list = []\n",
    "x_range = [3, 4, 5, 6, 7, 8, 9, 10, 15]\n",
    "\n",
    "for alpha in x_range: \n",
    "    model = KNeighborsClassifier(n_neighbors=alpha)\n",
    "    model.fit(X_train_clean,y_train_clean)\n",
    "    train_score_list.append(model.score(X_train_clean,y_train_clean))\n",
    "    test_score_list.append(model.score(X_test_clean, y_test_clean))   "
   ]
  },
  {
   "cell_type": "code",
   "execution_count": 18,
   "metadata": {
    "scrolled": true
   },
   "outputs": [
    {
     "data": {
      "text/plain": [
       "Text(0.5, 0, 'n_neighbors')"
      ]
     },
     "execution_count": 18,
     "metadata": {},
     "output_type": "execute_result"
    },
    {
     "data": {
      "image/png": "[encoded data removed]",
      "text/plain": [
       "<Figure size 432x288 with 1 Axes>"
      ]
     },
     "metadata": {
      "needs_background": "light"
     },
     "output_type": "display_data"
    }
   ],
   "source": [
    "plt.plot(x_range, train_score_list, c = 'g', label = 'Train Score')\n",
    "plt.plot(x_range, test_score_list, c = 'b', label = 'Test Score')\n",
    "plt.xscale('linear')\n",
    "plt.legend(loc = 3)\n",
    "plt.xlabel(r'n_neighbors')"
   ]
  },
  {
   "cell_type": "code",
   "execution_count": 19,
   "metadata": {},
   "outputs": [],
   "source": [
    "report_table = [['KNN', 'K = 5', grid_knn.score(X_train_clean, y_train_clean), \n",
    "                 grid_knn.score(X_test_clean, y_test_clean), roc_auc_score(y_true=y_train_clean, y_score=y_knn_train_predict),\n",
    "                 roc_auc_score(y_true=y_test_clean, y_score=y_knn_predict) ]]"
   ]
  },
  {
   "cell_type": "code",
   "execution_count": 20,
   "metadata": {
    "scrolled": true
   },
   "outputs": [
    {
     "data": {
      "text/plain": [
       "[['KNN',\n",
       "  'K = 5',\n",
       "  0.8022446229456217,\n",
       "  0.5052257525083612,\n",
       "  0.6622628547270517,\n",
       "  0.5052257525083612]]"
      ]
     },
     "execution_count": 20,
     "metadata": {},
     "output_type": "execute_result"
    }
   ],
   "source": [
    "report_table"
   ]
  },
  {
   "cell_type": "markdown",
   "metadata": {},
   "source": [
    "### Logistic Regression"
   ]
  },
  {
   "cell_type": "code",
   "execution_count": 21,
   "metadata": {
    "scrolled": true
   },
   "outputs": [
    {
     "name": "stderr",
     "output_type": "stream",
     "text": [
      "C:\\Users\\deepe\\Anaconda3\\envs\\bhratesh_ml\\lib\\site-packages\\sklearn\\model_selection\\_split.py:1978: FutureWarning: The default value of cv will change from 3 to 5 in version 0.22. Specify it explicitly to silence this warning.\n",
      "  warnings.warn(CV_WARNING, FutureWarning)\n",
      "C:\\Users\\deepe\\Anaconda3\\envs\\bhratesh_ml\\lib\\site-packages\\sklearn\\linear_model\\logistic.py:432: FutureWarning: Default solver will be changed to 'lbfgs' in 0.22. Specify a solver to silence this warning.\n",
      "  FutureWarning)\n",
      "C:\\Users\\deepe\\Anaconda3\\envs\\bhratesh_ml\\lib\\site-packages\\sklearn\\linear_model\\logistic.py:432: FutureWarning: Default solver will be changed to 'lbfgs' in 0.22. Specify a solver to silence this warning.\n",
      "  FutureWarning)\n",
      "C:\\Users\\deepe\\Anaconda3\\envs\\bhratesh_ml\\lib\\site-packages\\sklearn\\linear_model\\logistic.py:432: FutureWarning: Default solver will be changed to 'lbfgs' in 0.22. Specify a solver to silence this warning.\n",
      "  FutureWarning)\n",
      "C:\\Users\\deepe\\Anaconda3\\envs\\bhratesh_ml\\lib\\site-packages\\sklearn\\linear_model\\logistic.py:432: FutureWarning: Default solver will be changed to 'lbfgs' in 0.22. Specify a solver to silence this warning.\n",
      "  FutureWarning)\n",
      "C:\\Users\\deepe\\Anaconda3\\envs\\bhratesh_ml\\lib\\site-packages\\sklearn\\linear_model\\logistic.py:432: FutureWarning: Default solver will be changed to 'lbfgs' in 0.22. Specify a solver to silence this warning.\n",
      "  FutureWarning)\n",
      "C:\\Users\\deepe\\Anaconda3\\envs\\bhratesh_ml\\lib\\site-packages\\sklearn\\linear_model\\logistic.py:432: FutureWarning: Default solver will be changed to 'lbfgs' in 0.22. Specify a solver to silence this warning.\n",
      "  FutureWarning)\n",
      "C:\\Users\\deepe\\Anaconda3\\envs\\bhratesh_ml\\lib\\site-packages\\sklearn\\linear_model\\logistic.py:432: FutureWarning: Default solver will be changed to 'lbfgs' in 0.22. Specify a solver to silence this warning.\n",
      "  FutureWarning)\n",
      "C:\\Users\\deepe\\Anaconda3\\envs\\bhratesh_ml\\lib\\site-packages\\sklearn\\linear_model\\logistic.py:432: FutureWarning: Default solver will be changed to 'lbfgs' in 0.22. Specify a solver to silence this warning.\n",
      "  FutureWarning)\n",
      "C:\\Users\\deepe\\Anaconda3\\envs\\bhratesh_ml\\lib\\site-packages\\sklearn\\linear_model\\logistic.py:432: FutureWarning: Default solver will be changed to 'lbfgs' in 0.22. Specify a solver to silence this warning.\n",
      "  FutureWarning)\n",
      "C:\\Users\\deepe\\Anaconda3\\envs\\bhratesh_ml\\lib\\site-packages\\sklearn\\linear_model\\logistic.py:432: FutureWarning: Default solver will be changed to 'lbfgs' in 0.22. Specify a solver to silence this warning.\n",
      "  FutureWarning)\n",
      "C:\\Users\\deepe\\Anaconda3\\envs\\bhratesh_ml\\lib\\site-packages\\sklearn\\linear_model\\logistic.py:432: FutureWarning: Default solver will be changed to 'lbfgs' in 0.22. Specify a solver to silence this warning.\n",
      "  FutureWarning)\n",
      "C:\\Users\\deepe\\Anaconda3\\envs\\bhratesh_ml\\lib\\site-packages\\sklearn\\linear_model\\logistic.py:432: FutureWarning: Default solver will be changed to 'lbfgs' in 0.22. Specify a solver to silence this warning.\n",
      "  FutureWarning)\n",
      "C:\\Users\\deepe\\Anaconda3\\envs\\bhratesh_ml\\lib\\site-packages\\sklearn\\linear_model\\logistic.py:432: FutureWarning: Default solver will be changed to 'lbfgs' in 0.22. Specify a solver to silence this warning.\n",
      "  FutureWarning)\n",
      "C:\\Users\\deepe\\Anaconda3\\envs\\bhratesh_ml\\lib\\site-packages\\sklearn\\linear_model\\logistic.py:432: FutureWarning: Default solver will be changed to 'lbfgs' in 0.22. Specify a solver to silence this warning.\n",
      "  FutureWarning)\n",
      "C:\\Users\\deepe\\Anaconda3\\envs\\bhratesh_ml\\lib\\site-packages\\sklearn\\linear_model\\logistic.py:432: FutureWarning: Default solver will be changed to 'lbfgs' in 0.22. Specify a solver to silence this warning.\n",
      "  FutureWarning)\n",
      "C:\\Users\\deepe\\Anaconda3\\envs\\bhratesh_ml\\lib\\site-packages\\sklearn\\linear_model\\logistic.py:432: FutureWarning: Default solver will be changed to 'lbfgs' in 0.22. Specify a solver to silence this warning.\n",
      "  FutureWarning)\n",
      "C:\\Users\\deepe\\Anaconda3\\envs\\bhratesh_ml\\lib\\site-packages\\sklearn\\linear_model\\logistic.py:432: FutureWarning: Default solver will be changed to 'lbfgs' in 0.22. Specify a solver to silence this warning.\n",
      "  FutureWarning)\n",
      "C:\\Users\\deepe\\Anaconda3\\envs\\bhratesh_ml\\lib\\site-packages\\sklearn\\linear_model\\logistic.py:432: FutureWarning: Default solver will be changed to 'lbfgs' in 0.22. Specify a solver to silence this warning.\n",
      "  FutureWarning)\n",
      "C:\\Users\\deepe\\Anaconda3\\envs\\bhratesh_ml\\lib\\site-packages\\sklearn\\linear_model\\logistic.py:432: FutureWarning: Default solver will be changed to 'lbfgs' in 0.22. Specify a solver to silence this warning.\n",
      "  FutureWarning)\n"
     ]
    },
    {
     "data": {
      "text/plain": [
       "GridSearchCV(cv='warn', error_score='raise-deprecating',\n",
       "             estimator=LogisticRegression(C=1.0, class_weight=None, dual=False,\n",
       "                                          fit_intercept=True,\n",
       "                                          intercept_scaling=1, l1_ratio=None,\n",
       "                                          max_iter=100, multi_class='warn',\n",
       "                                          n_jobs=None, penalty='l2',\n",
       "                                          random_state=None, solver='warn',\n",
       "                                          tol=0.0001, verbose=0,\n",
       "                                          warm_start=False),\n",
       "             iid='warn', n_jobs=None,\n",
       "             param_grid={'C': [0.001, 0.01, 0.1, 1, 10, 100]},\n",
       "             pre_dispatch='2*n_jobs', refit=True, return_train_score=False,\n",
       "             scoring=None, verbose=0)"
      ]
     },
     "execution_count": 21,
     "metadata": {},
     "output_type": "execute_result"
    }
   ],
   "source": [
    "from sklearn.linear_model import LogisticRegression\n",
    "param_grid = {'C': [0.001, 0.01, 0.1, 1, 10, 100] }\n",
    "grid_log_reg = GridSearchCV(LogisticRegression(penalty='l2'), param_grid)\n",
    "grid_log_reg.fit(X_train_clean, y_train_clean)"
   ]
  },
  {
   "cell_type": "code",
   "execution_count": 22,
   "metadata": {},
   "outputs": [
    {
     "name": "stdout",
     "output_type": "stream",
     "text": [
      "Logistic Regression Training Score:  0.7870588235294118\n"
     ]
    }
   ],
   "source": [
    "print(\"Logistic Regression Training Score: \", grid_log_reg.score(X_train_clean, y_train_clean))"
   ]
  },
  {
   "cell_type": "code",
   "execution_count": 23,
   "metadata": {},
   "outputs": [
    {
     "name": "stdout",
     "output_type": "stream",
     "text": [
      "Logistic Regression Testing Score:  0.7733333333333333\n"
     ]
    }
   ],
   "source": [
    "print(\"Logistic Regression Testing Score: \", grid_log_reg.score(X_test_clean, y_test_clean))"
   ]
  },
  {
   "cell_type": "code",
   "execution_count": null,
   "metadata": {},
   "outputs": [
    {
     "name": "stdout",
     "output_type": "stream",
     "text": [
      "Best Parameters for Logistic Regression:  {'C': 100}\n"
     ]
    }
   ],
   "source": [
    "print(\"Best Parameters for Logistic Regression: \", grid_log_reg.best_params_)"
   ]
  },
  {
   "cell_type": "code",
   "execution_count": null,
   "metadata": {},
   "outputs": [
    {
     "name": "stdout",
     "output_type": "stream",
     "text": [
      "Logistic Regression Mean Test Scores:  [0.70941176 0.71764706 0.74       0.74470588 0.74470588 0.74588235]\n"
     ]
    }
   ],
   "source": [
    "print(\"Logistic Regression Mean Test Scores: \", grid_log_reg.cv_results_['mean_test_score'])"
   ]
  },
  {
   "cell_type": "code",
   "execution_count": null,
   "metadata": {},
   "outputs": [],
   "source": [
    "y_log_predict_train = grid_log_reg.predict(X_train_clean)\n",
    "y_log_predict = grid_log_reg.predict(X_test_clean)"
   ]
  },
  {
   "cell_type": "code",
   "execution_count": null,
   "metadata": {},
   "outputs": [
    {
     "name": "stderr",
     "output_type": "stream",
     "text": [
      "C:\\Users\\deepe\\Anaconda3\\envs\\bhratesh_ml\\lib\\site-packages\\sklearn\\linear_model\\logistic.py:432: FutureWarning: Default solver will be changed to 'lbfgs' in 0.22. Specify a solver to silence this warning.\n",
      "  FutureWarning)\n",
      "C:\\Users\\deepe\\Anaconda3\\envs\\bhratesh_ml\\lib\\site-packages\\sklearn\\linear_model\\logistic.py:432: FutureWarning: Default solver will be changed to 'lbfgs' in 0.22. Specify a solver to silence this warning.\n",
      "  FutureWarning)\n",
      "C:\\Users\\deepe\\Anaconda3\\envs\\bhratesh_ml\\lib\\site-packages\\sklearn\\linear_model\\logistic.py:432: FutureWarning: Default solver will be changed to 'lbfgs' in 0.22. Specify a solver to silence this warning.\n",
      "  FutureWarning)\n",
      "C:\\Users\\deepe\\Anaconda3\\envs\\bhratesh_ml\\lib\\site-packages\\sklearn\\linear_model\\logistic.py:432: FutureWarning: Default solver will be changed to 'lbfgs' in 0.22. Specify a solver to silence this warning.\n",
      "  FutureWarning)\n",
      "C:\\Users\\deepe\\Anaconda3\\envs\\bhratesh_ml\\lib\\site-packages\\sklearn\\linear_model\\logistic.py:432: FutureWarning: Default solver will be changed to 'lbfgs' in 0.22. Specify a solver to silence this warning.\n",
      "  FutureWarning)\n",
      "C:\\Users\\deepe\\Anaconda3\\envs\\bhratesh_ml\\lib\\site-packages\\sklearn\\linear_model\\logistic.py:432: FutureWarning: Default solver will be changed to 'lbfgs' in 0.22. Specify a solver to silence this warning.\n",
      "  FutureWarning)\n"
     ]
    }
   ],
   "source": [
    "train_score_list = []\n",
    "test_score_list = []\n",
    "x_range = [0.001, 0.01, 0.1, 1, 10, 100]\n",
    "\n",
    "for alpha in x_range: \n",
    "    model = LogisticRegression(C=alpha)\n",
    "    model.fit(X_train_clean,y_train_clean)\n",
    "    train_score_list.append(model.score(X_train_clean,y_train_clean))\n",
    "    test_score_list.append(model.score(X_test_clean, y_test_clean))"
   ]
  },
  {
   "cell_type": "code",
   "execution_count": null,
   "metadata": {},
   "outputs": [
    {
     "data": {
      "text/plain": [
       "Text(0.5, 0, 'C')"
      ]
     },
     "execution_count": 28,
     "metadata": {},
     "output_type": "execute_result"
    },
    {
     "data": {
      "image/png": "[encoded data removed]",
      "text/plain": [
       "<Figure size 432x288 with 1 Axes>"
      ]
     },
     "metadata": {
      "needs_background": "light"
     },
     "output_type": "display_data"
    }
   ],
   "source": [
    "plt.plot(x_range, train_score_list, c = 'g', label = 'Train Score')\n",
    "plt.plot(x_range, test_score_list, c = 'b', label = 'Test Score')\n",
    "plt.xscale('log')\n",
    "plt.legend(loc = 3)\n",
    "plt.xlabel('C')"
   ]
  },
  {
   "cell_type": "code",
   "execution_count": null,
   "metadata": {},
   "outputs": [],
   "source": [
    "report_table = report_table + [['Logistic Regression', 'C = 10', grid_log_reg.score(X_train_clean, y_train_clean),\n",
    "                                grid_log_reg.score(X_test_clean, y_test_clean), roc_auc_score(y_score=y_log_predict_train, y_true=y_train_clean),\n",
    "                                roc_auc_score(y_score=y_log_predict, y_true=y_test_clean)]]"
   ]
  },
  {
   "cell_type": "markdown",
   "metadata": {},
   "source": [
    "### Linear SVM "
   ]
  },
  {
   "cell_type": "code",
   "execution_count": null,
   "metadata": {},
   "outputs": [
    {
     "name": "stderr",
     "output_type": "stream",
     "text": [
      "C:\\Users\\deepe\\Anaconda3\\envs\\bhratesh_ml\\lib\\site-packages\\sklearn\\svm\\base.py:929: ConvergenceWarning: Liblinear failed to converge, increase the number of iterations.\n",
      "  \"the number of iterations.\", ConvergenceWarning)\n",
      "C:\\Users\\deepe\\Anaconda3\\envs\\bhratesh_ml\\lib\\site-packages\\sklearn\\svm\\base.py:929: ConvergenceWarning: Liblinear failed to converge, increase the number of iterations.\n",
      "  \"the number of iterations.\", ConvergenceWarning)\n",
      "C:\\Users\\deepe\\Anaconda3\\envs\\bhratesh_ml\\lib\\site-packages\\sklearn\\svm\\base.py:929: ConvergenceWarning: Liblinear failed to converge, increase the number of iterations.\n",
      "  \"the number of iterations.\", ConvergenceWarning)\n",
      "C:\\Users\\deepe\\Anaconda3\\envs\\bhratesh_ml\\lib\\site-packages\\sklearn\\svm\\base.py:929: ConvergenceWarning: Liblinear failed to converge, increase the number of iterations.\n",
      "  \"the number of iterations.\", ConvergenceWarning)\n",
      "C:\\Users\\deepe\\Anaconda3\\envs\\bhratesh_ml\\lib\\site-packages\\sklearn\\svm\\base.py:929: ConvergenceWarning: Liblinear failed to converge, increase the number of iterations.\n",
      "  \"the number of iterations.\", ConvergenceWarning)\n",
      "C:\\Users\\deepe\\Anaconda3\\envs\\bhratesh_ml\\lib\\site-packages\\sklearn\\svm\\base.py:929: ConvergenceWarning: Liblinear failed to converge, increase the number of iterations.\n",
      "  \"the number of iterations.\", ConvergenceWarning)\n",
      "C:\\Users\\deepe\\Anaconda3\\envs\\bhratesh_ml\\lib\\site-packages\\sklearn\\svm\\base.py:929: ConvergenceWarning: Liblinear failed to converge, increase the number of iterations.\n",
      "  \"the number of iterations.\", ConvergenceWarning)\n",
      "C:\\Users\\deepe\\Anaconda3\\envs\\bhratesh_ml\\lib\\site-packages\\sklearn\\svm\\base.py:929: ConvergenceWarning: Liblinear failed to converge, increase the number of iterations.\n",
      "  \"the number of iterations.\", ConvergenceWarning)\n",
      "C:\\Users\\deepe\\Anaconda3\\envs\\bhratesh_ml\\lib\\site-packages\\sklearn\\svm\\base.py:929: ConvergenceWarning: Liblinear failed to converge, increase the number of iterations.\n",
      "  \"the number of iterations.\", ConvergenceWarning)\n",
      "C:\\Users\\deepe\\Anaconda3\\envs\\bhratesh_ml\\lib\\site-packages\\sklearn\\svm\\base.py:929: ConvergenceWarning: Liblinear failed to converge, increase the number of iterations.\n",
      "  \"the number of iterations.\", ConvergenceWarning)\n",
      "C:\\Users\\deepe\\Anaconda3\\envs\\bhratesh_ml\\lib\\site-packages\\sklearn\\svm\\base.py:929: ConvergenceWarning: Liblinear failed to converge, increase the number of iterations.\n",
      "  \"the number of iterations.\", ConvergenceWarning)\n",
      "C:\\Users\\deepe\\Anaconda3\\envs\\bhratesh_ml\\lib\\site-packages\\sklearn\\svm\\base.py:929: ConvergenceWarning: Liblinear failed to converge, increase the number of iterations.\n",
      "  \"the number of iterations.\", ConvergenceWarning)\n",
      "C:\\Users\\deepe\\Anaconda3\\envs\\bhratesh_ml\\lib\\site-packages\\sklearn\\svm\\base.py:929: ConvergenceWarning: Liblinear failed to converge, increase the number of iterations.\n",
      "  \"the number of iterations.\", ConvergenceWarning)\n",
      "C:\\Users\\deepe\\Anaconda3\\envs\\bhratesh_ml\\lib\\site-packages\\sklearn\\svm\\base.py:929: ConvergenceWarning: Liblinear failed to converge, increase the number of iterations.\n",
      "  \"the number of iterations.\", ConvergenceWarning)\n",
      "C:\\Users\\deepe\\Anaconda3\\envs\\bhratesh_ml\\lib\\site-packages\\sklearn\\svm\\base.py:929: ConvergenceWarning: Liblinear failed to converge, increase the number of iterations.\n",
      "  \"the number of iterations.\", ConvergenceWarning)\n",
      "C:\\Users\\deepe\\Anaconda3\\envs\\bhratesh_ml\\lib\\site-packages\\sklearn\\svm\\base.py:929: ConvergenceWarning: Liblinear failed to converge, increase the number of iterations.\n",
      "  \"the number of iterations.\", ConvergenceWarning)\n",
      "C:\\Users\\deepe\\Anaconda3\\envs\\bhratesh_ml\\lib\\site-packages\\sklearn\\svm\\base.py:929: ConvergenceWarning: Liblinear failed to converge, increase the number of iterations.\n",
      "  \"the number of iterations.\", ConvergenceWarning)\n",
      "C:\\Users\\deepe\\Anaconda3\\envs\\bhratesh_ml\\lib\\site-packages\\sklearn\\svm\\base.py:929: ConvergenceWarning: Liblinear failed to converge, increase the number of iterations.\n",
      "  \"the number of iterations.\", ConvergenceWarning)\n",
      "C:\\Users\\deepe\\Anaconda3\\envs\\bhratesh_ml\\lib\\site-packages\\sklearn\\svm\\base.py:929: ConvergenceWarning: Liblinear failed to converge, increase the number of iterations.\n",
      "  \"the number of iterations.\", ConvergenceWarning)\n",
      "C:\\Users\\deepe\\Anaconda3\\envs\\bhratesh_ml\\lib\\site-packages\\sklearn\\svm\\base.py:929: ConvergenceWarning: Liblinear failed to converge, increase the number of iterations.\n",
      "  \"the number of iterations.\", ConvergenceWarning)\n",
      "C:\\Users\\deepe\\Anaconda3\\envs\\bhratesh_ml\\lib\\site-packages\\sklearn\\svm\\base.py:929: ConvergenceWarning: Liblinear failed to converge, increase the number of iterations.\n",
      "  \"the number of iterations.\", ConvergenceWarning)\n",
      "C:\\Users\\deepe\\Anaconda3\\envs\\bhratesh_ml\\lib\\site-packages\\sklearn\\svm\\base.py:929: ConvergenceWarning: Liblinear failed to converge, increase the number of iterations.\n",
      "  \"the number of iterations.\", ConvergenceWarning)\n",
      "C:\\Users\\deepe\\Anaconda3\\envs\\bhratesh_ml\\lib\\site-packages\\sklearn\\svm\\base.py:929: ConvergenceWarning: Liblinear failed to converge, increase the number of iterations.\n",
      "  \"the number of iterations.\", ConvergenceWarning)\n",
      "C:\\Users\\deepe\\Anaconda3\\envs\\bhratesh_ml\\lib\\site-packages\\sklearn\\svm\\base.py:929: ConvergenceWarning: Liblinear failed to converge, increase the number of iterations.\n",
      "  \"the number of iterations.\", ConvergenceWarning)\n",
      "C:\\Users\\deepe\\Anaconda3\\envs\\bhratesh_ml\\lib\\site-packages\\sklearn\\svm\\base.py:929: ConvergenceWarning: Liblinear failed to converge, increase the number of iterations.\n",
      "  \"the number of iterations.\", ConvergenceWarning)\n",
      "C:\\Users\\deepe\\Anaconda3\\envs\\bhratesh_ml\\lib\\site-packages\\sklearn\\svm\\base.py:929: ConvergenceWarning: Liblinear failed to converge, increase the number of iterations.\n",
      "  \"the number of iterations.\", ConvergenceWarning)\n",
      "C:\\Users\\deepe\\Anaconda3\\envs\\bhratesh_ml\\lib\\site-packages\\sklearn\\svm\\base.py:929: ConvergenceWarning: Liblinear failed to converge, increase the number of iterations.\n",
      "  \"the number of iterations.\", ConvergenceWarning)\n",
      "C:\\Users\\deepe\\Anaconda3\\envs\\bhratesh_ml\\lib\\site-packages\\sklearn\\svm\\base.py:929: ConvergenceWarning: Liblinear failed to converge, increase the number of iterations.\n",
      "  \"the number of iterations.\", ConvergenceWarning)\n",
      "C:\\Users\\deepe\\Anaconda3\\envs\\bhratesh_ml\\lib\\site-packages\\sklearn\\svm\\base.py:929: ConvergenceWarning: Liblinear failed to converge, increase the number of iterations.\n",
      "  \"the number of iterations.\", ConvergenceWarning)\n",
      "C:\\Users\\deepe\\Anaconda3\\envs\\bhratesh_ml\\lib\\site-packages\\sklearn\\svm\\base.py:929: ConvergenceWarning: Liblinear failed to converge, increase the number of iterations.\n",
      "  \"the number of iterations.\", ConvergenceWarning)\n",
      "C:\\Users\\deepe\\Anaconda3\\envs\\bhratesh_ml\\lib\\site-packages\\sklearn\\model_selection\\_search.py:813: DeprecationWarning: The default of the `iid` parameter will change from True to False in version 0.22 and will be removed in 0.24. This will change numeric results when test-set sizes are unequal.\n",
      "  DeprecationWarning)\n",
      "C:\\Users\\deepe\\Anaconda3\\envs\\bhratesh_ml\\lib\\site-packages\\sklearn\\svm\\base.py:929: ConvergenceWarning: Liblinear failed to converge, increase the number of iterations.\n",
      "  \"the number of iterations.\", ConvergenceWarning)\n"
     ]
    },
    {
     "data": {
      "text/plain": [
       "GridSearchCV(cv=5, error_score='raise-deprecating',\n",
       "             estimator=LinearSVC(C=1.0, class_weight=None, dual=True,\n",
       "                                 fit_intercept=True, intercept_scaling=1,\n",
       "                                 loss='squared_hinge', max_iter=1000,\n",
       "                                 multi_class='ovr', penalty='l2',\n",
       "                                 random_state=None, tol=0.0001, verbose=0),\n",
       "             iid='warn', n_jobs=None,\n",
       "             param_grid={'C': [0.001, 0.01, 0.1, 1, 10, 100]},\n",
       "             pre_dispatch='2*n_jobs', refit=True, return_train_score=True,\n",
       "             scoring='roc_auc', verbose=0)"
      ]
     },
     "execution_count": 30,
     "metadata": {},
     "output_type": "execute_result"
    }
   ],
   "source": [
    "from sklearn.svm import LinearSVC\n",
    "\n",
    "svc_lin = LinearSVC()\n",
    "param_grid = {'C':[0.001, 0.01, 0.1, 1, 10, 100]}\n",
    "\n",
    "grid_svc_lin = GridSearchCV(svc_lin, param_grid, cv = 5, scoring='roc_auc', return_train_score=True)\n",
    "grid_svc_lin.fit(X_train_clean, y_train_clean)"
   ]
  },
  {
   "cell_type": "code",
   "execution_count": null,
   "metadata": {},
   "outputs": [
    {
     "name": "stdout",
     "output_type": "stream",
     "text": [
      "Linear SVC Training Score:  0.5246393278021455\n"
     ]
    }
   ],
   "source": [
    "print(\"Linear SVC Training Score: \", grid_svc_lin.score(X_train_clean, y_train_clean))"
   ]
  },
  {
   "cell_type": "code",
   "execution_count": null,
   "metadata": {},
   "outputs": [
    {
     "name": "stdout",
     "output_type": "stream",
     "text": [
      "Linear SVC Testing Score:  0.534489966555184\n"
     ]
    }
   ],
   "source": [
    "print(\"Linear SVC Testing Score: \",grid_svc_lin.score(X_test_clean, y_test_clean))"
   ]
  },
  {
   "cell_type": "code",
   "execution_count": null,
   "metadata": {},
   "outputs": [
    {
     "name": "stdout",
     "output_type": "stream",
     "text": [
      "Best Parameters for Linear SVC:  {'C': 0.01}\n"
     ]
    }
   ],
   "source": [
    "print(\"Best Parameters for Linear SVC: \", grid_svc_lin.best_params_)"
   ]
  },
  {
   "cell_type": "code",
   "execution_count": null,
   "metadata": {},
   "outputs": [
    {
     "name": "stdout",
     "output_type": "stream",
     "text": [
      "Linear SVC Mean Test Scores:  [0.59254623 0.6022837  0.59977794 0.59042827 0.59964422 0.57332424]\n"
     ]
    }
   ],
   "source": [
    "print(\"Linear SVC Mean Test Scores: \", grid_svc_lin.cv_results_['mean_test_score'])"
   ]
  },
  {
   "cell_type": "code",
   "execution_count": null,
   "metadata": {},
   "outputs": [],
   "source": [
    "y_svc_lin_predict_train = grid_svc_lin.predict(X_train_clean)\n",
    "y_svc_lin_predict = grid_svc_lin.predict(X_test_clean)"
   ]
  },
  {
   "cell_type": "code",
   "execution_count": null,
   "metadata": {},
   "outputs": [
    {
     "name": "stderr",
     "output_type": "stream",
     "text": [
      "C:\\Users\\deepe\\Anaconda3\\envs\\bhratesh_ml\\lib\\site-packages\\sklearn\\svm\\base.py:929: ConvergenceWarning: Liblinear failed to converge, increase the number of iterations.\n",
      "  \"the number of iterations.\", ConvergenceWarning)\n",
      "C:\\Users\\deepe\\Anaconda3\\envs\\bhratesh_ml\\lib\\site-packages\\sklearn\\svm\\base.py:929: ConvergenceWarning: Liblinear failed to converge, increase the number of iterations.\n",
      "  \"the number of iterations.\", ConvergenceWarning)\n",
      "C:\\Users\\deepe\\Anaconda3\\envs\\bhratesh_ml\\lib\\site-packages\\sklearn\\svm\\base.py:929: ConvergenceWarning: Liblinear failed to converge, increase the number of iterations.\n",
      "  \"the number of iterations.\", ConvergenceWarning)\n",
      "C:\\Users\\deepe\\Anaconda3\\envs\\bhratesh_ml\\lib\\site-packages\\sklearn\\svm\\base.py:929: ConvergenceWarning: Liblinear failed to converge, increase the number of iterations.\n",
      "  \"the number of iterations.\", ConvergenceWarning)\n",
      "C:\\Users\\deepe\\Anaconda3\\envs\\bhratesh_ml\\lib\\site-packages\\sklearn\\svm\\base.py:929: ConvergenceWarning: Liblinear failed to converge, increase the number of iterations.\n",
      "  \"the number of iterations.\", ConvergenceWarning)\n",
      "C:\\Users\\deepe\\Anaconda3\\envs\\bhratesh_ml\\lib\\site-packages\\sklearn\\svm\\base.py:929: ConvergenceWarning: Liblinear failed to converge, increase the number of iterations.\n",
      "  \"the number of iterations.\", ConvergenceWarning)\n"
     ]
    }
   ],
   "source": [
    "train_score_list = []\n",
    "test_score_list = []\n",
    "x_range = [0.001, 0.01, 0.1, 1, 10, 100]\n",
    "\n",
    "for alpha in x_range: \n",
    "    model = LinearSVC(C=alpha)\n",
    "    model.fit(X_train_clean,y_train_clean)\n",
    "    train_score_list.append(model.score(X_train_clean,y_train_clean))\n",
    "    test_score_list.append(model.score(X_test_clean, y_test_clean))"
   ]
  },
  {
   "cell_type": "code",
   "execution_count": null,
   "metadata": {
    "scrolled": true
   },
   "outputs": [
    {
     "data": {
      "text/plain": [
       "Text(0.5, 0, 'C')"
      ]
     },
     "execution_count": 37,
     "metadata": {},
     "output_type": "execute_result"
    },
    {
     "data": {
      "image/png": "[encoded data removed]",
      "text/plain": [
       "<Figure size 432x288 with 1 Axes>"
      ]
     },
     "metadata": {
      "needs_background": "light"
     },
     "output_type": "display_data"
    }
   ],
   "source": [
    "plt.plot(x_range, train_score_list, c = 'g', label = 'Train Score')\n",
    "plt.plot(x_range, test_score_list, c = 'b', label = 'Test Score')\n",
    "plt.xscale('log')\n",
    "plt.legend(loc = 3)\n",
    "plt.xlabel('C')"
   ]
  },
  {
   "cell_type": "code",
   "execution_count": null,
   "metadata": {},
   "outputs": [],
   "source": [
    "report_table = report_table + [['LinearSVC', 'C = 0.1', grid_svc_lin.score(X_train_clean, y_train_clean),\n",
    "                                grid_svc_lin.score(X_test_clean, y_test_clean), roc_auc_score(y_score=y_svc_lin_predict_train, y_true=y_train_clean),\n",
    "                                roc_auc_score(y_score=y_svc_lin_predict, y_true=y_test_clean)]]"
   ]
  },
  {
   "cell_type": "code",
   "execution_count": null,
   "metadata": {
    "scrolled": true
   },
   "outputs": [
    {
     "data": {
      "text/plain": [
       "[['KNN',\n",
       "  'K = 5',\n",
       "  0.8022446229456217,\n",
       "  0.5052257525083612,\n",
       "  0.6622628547270517,\n",
       "  0.5052257525083612],\n",
       " ['Logistic Regression',\n",
       "  'C = 10',\n",
       "  0.7870588235294118,\n",
       "  0.7733333333333333,\n",
       "  0.7171233419648047,\n",
       "  0.6849916387959866],\n",
       " ['LinearSVC', 'C = 0.1', 0.5246393278021455, 0.534489966555184, 0.5, 0.5]]"
      ]
     },
     "execution_count": 39,
     "metadata": {},
     "output_type": "execute_result"
    }
   ],
   "source": [
    "report_table"
   ]
  },
  {
   "cell_type": "markdown",
   "metadata": {},
   "source": [
    "###  Kernelized SVM"
   ]
  },
  {
   "cell_type": "code",
   "execution_count": null,
   "metadata": {},
   "outputs": [
    {
     "data": {
      "text/plain": [
       "GridSearchCV(cv=5, error_score='raise-deprecating',\n",
       "             estimator=SVC(C=1.0, cache_size=200, class_weight=None, coef0=0.0,\n",
       "                           decision_function_shape='ovr', degree=3,\n",
       "                           gamma='auto_deprecated', kernel='linear',\n",
       "                           max_iter=-1, probability=False, random_state=None,\n",
       "                           shrinking=True, tol=0.001, verbose=False),\n",
       "             iid='warn', n_jobs=-1,\n",
       "             param_grid={'C': [0.001, 0.01, 0.1, 1, 10, 100]},\n",
       "             pre_dispatch='2*n_jobs', refit=True, return_train_score=True,\n",
       "             scoring='roc_auc', verbose=0)"
      ]
     },
     "execution_count": 40,
     "metadata": {},
     "output_type": "execute_result"
    }
   ],
   "source": [
    "from sklearn.svm import SVC\n",
    "kernel_linear = SVC(kernel='linear')\n",
    "param_grid = {'C':[0.001, 0.01, 0.1, 1, 10, 100]}\n",
    "\n",
    "grid_kernel_linear = GridSearchCV(kernel_linear, param_grid, cv = 5, scoring='roc_auc',return_train_score=True, n_jobs=-1)\n",
    "grid_kernel_linear.fit(X_train_clean, y_train_clean)"
   ]
  },
  {
   "cell_type": "code",
   "execution_count": null,
   "metadata": {},
   "outputs": [
    {
     "name": "stdout",
     "output_type": "stream",
     "text": [
      "Linear Kernalized SVM Training Score:  0.8309398615441526\n"
     ]
    }
   ],
   "source": [
    "print(\"Linear Kernalized SVM Training Score: \", grid_kernel_linear.score(X_train_clean, y_train_clean))"
   ]
  },
  {
   "cell_type": "code",
   "execution_count": null,
   "metadata": {},
   "outputs": [
    {
     "name": "stdout",
     "output_type": "stream",
     "text": [
      "Linear Kernalized SVM Testing Score:  0.7782190635451505\n"
     ]
    }
   ],
   "source": [
    "print(\"Linear Kernalized SVM Testing Score: \", grid_kernel_linear.score(X_test_clean, y_test_clean))"
   ]
  },
  {
   "cell_type": "code",
   "execution_count": null,
   "metadata": {},
   "outputs": [
    {
     "name": "stdout",
     "output_type": "stream",
     "text": [
      "Best Parameters for Linear Kernalized SVM:  {'C': 0.1}\n"
     ]
    }
   ],
   "source": [
    "print(\"Best Parameters for Linear Kernalized SVM: \", grid_kernel_linear.best_params_)"
   ]
  },
  {
   "cell_type": "code",
   "execution_count": null,
   "metadata": {},
   "outputs": [
    {
     "name": "stdout",
     "output_type": "stream",
     "text": [
      "Linear Kernalized SVM Mean Test Scores:  [0.76133773 0.76384414 0.78121035 0.76182364 0.76557792 0.76494072]\n"
     ]
    }
   ],
   "source": [
    "print(\"Linear Kernalized SVM Mean Test Scores: \", grid_kernel_linear.cv_results_['mean_test_score'])"
   ]
  },
  {
   "cell_type": "code",
   "execution_count": null,
   "metadata": {},
   "outputs": [],
   "source": [
    "y_ker_lin_predict_train = grid_kernel_linear.predict(X_train_clean)\n",
    "y_ker_lin_predict = grid_kernel_linear.predict(X_test_clean)"
   ]
  },
  {
   "cell_type": "code",
   "execution_count": null,
   "metadata": {},
   "outputs": [],
   "source": [
    "# from sklearn.svm import SVC\n",
    "# train_score_list = []\n",
    "# test_score_list = []\n",
    "# x_range = [0.001, 0.01, 0.1, 1, 10, 100]\n",
    "\n",
    "# for alpha in x_range: \n",
    "#     model = SVC(kernel='linear', C = alpha, verbose=True)\n",
    "#     model.fit(X_train_clean,y_train_clean)\n",
    "#     train_score_list.append(model.score(X_train_clean,y_train_clean))\n",
    "#     test_score_list.append(model.score(X_test_clean, y_test_clean))"
   ]
  },
  {
   "cell_type": "code",
   "execution_count": null,
   "metadata": {},
   "outputs": [],
   "source": [
    "# plt.plot(x_range, train_score_list, c = 'g', label = 'Train Score')\n",
    "# plt.plot(x_range, test_score_list, c = 'b', label = 'Test Score')\n",
    "# plt.xscale('log')\n",
    "# plt.legend(loc = 3)\n",
    "# plt.xlabel('C')"
   ]
  },
  {
   "cell_type": "code",
   "execution_count": null,
   "metadata": {},
   "outputs": [],
   "source": [
    "report_table = report_table + [['Linear Kernelized SVM', 'C = 1', grid_kernel_linear.score(X_train_clean, y_train_clean),\n",
    "                                grid_kernel_linear.score(X_test_clean, y_test_clean), roc_auc_score(y_score=y_ker_lin_predict_train, y_true=y_train_clean),\n",
    "                                roc_auc_score(y_score=y_ker_lin_predict, y_true=y_test_clean)]]"
   ]
  },
  {
   "cell_type": "code",
   "execution_count": null,
   "metadata": {},
   "outputs": [
    {
     "data": {
      "text/plain": [
       "GridSearchCV(cv=5, error_score='raise-deprecating',\n",
       "             estimator=SVC(C=1.0, cache_size=200, class_weight=None, coef0=0.0,\n",
       "                           decision_function_shape='ovr', degree=3, gamma=0.7,\n",
       "                           kernel='rbf', max_iter=-1, probability=False,\n",
       "                           random_state=None, shrinking=True, tol=0.001,\n",
       "                           verbose=False),\n",
       "             iid='warn', n_jobs=-1,\n",
       "             param_grid={'C': [0.001, 0.01, 0.1, 1, 10, 100]},\n",
       "             pre_dispatch='2*n_jobs', refit=True, return_train_score=True,\n",
       "             scoring='roc_auc', verbose=0)"
      ]
     },
     "execution_count": 49,
     "metadata": {},
     "output_type": "execute_result"
    }
   ],
   "source": [
    "kernel_rbf = SVC(kernel='rbf', gamma=0.7)\n",
    "\n",
    "param_grid = {'C':[0.001, 0.01, 0.1, 1, 10, 100]}\n",
    "\n",
    "grid_kernel_rbf = GridSearchCV(kernel_rbf, param_grid, cv = 5, scoring='roc_auc',return_train_score=True, n_jobs=-1)\n",
    "grid_kernel_rbf.fit(X_train_clean, y_train_clean)"
   ]
  },
  {
   "cell_type": "code",
   "execution_count": null,
   "metadata": {},
   "outputs": [
    {
     "name": "stdout",
     "output_type": "stream",
     "text": [
      "Rbf Kernalized SVM Training Score:  1.0\n"
     ]
    }
   ],
   "source": [
    "print(\"Rbf Kernalized SVM Training Score: \", grid_kernel_rbf.score(X_train_clean, y_train_clean))"
   ]
  },
  {
   "cell_type": "code",
   "execution_count": null,
   "metadata": {},
   "outputs": [
    {
     "name": "stdout",
     "output_type": "stream",
     "text": [
      "Rbf Kernalized SVM Testing Score:  0.4776337792642141\n"
     ]
    }
   ],
   "source": [
    "print(\"Rbf Kernalized SVM Testing Score: \", grid_kernel_rbf.score(X_test_clean, y_test_clean))"
   ]
  },
  {
   "cell_type": "code",
   "execution_count": null,
   "metadata": {},
   "outputs": [
    {
     "name": "stdout",
     "output_type": "stream",
     "text": [
      "Best Parameters for Rbf Kernalized SVM:  {'C': 0.001}\n"
     ]
    }
   ],
   "source": [
    "print(\"Best Parameters for Rbf Kernalized SVM: \", grid_kernel_rbf.best_params_)"
   ]
  },
  {
   "cell_type": "code",
   "execution_count": null,
   "metadata": {},
   "outputs": [
    {
     "name": "stdout",
     "output_type": "stream",
     "text": [
      "Rbf Kernalized SVM Mean Test Scores:  [0.49892626 0.49559649 0.49382185 0.49884109 0.49660721 0.49660721]\n"
     ]
    }
   ],
   "source": [
    "print(\"Rbf Kernalized SVM Mean Test Scores: \", grid_kernel_rbf.cv_results_['mean_test_score'])"
   ]
  },
  {
   "cell_type": "code",
   "execution_count": null,
   "metadata": {},
   "outputs": [],
   "source": [
    "y_ker_rbf_predict_train = grid_kernel_rbf.predict(X_train_clean)\n",
    "y_ker_rbf_predict = grid_kernel_rbf.predict(X_test_clean)"
   ]
  },
  {
   "cell_type": "code",
   "execution_count": null,
   "metadata": {},
   "outputs": [],
   "source": [
    "#train_score_list = []\n",
    "#test_score_list = []\n",
    "#x_range = [0.001, 0.01, 0.1, 1, 10, 100]\n",
    "\n",
    "#for alpha in x_range: \n",
    "#    model = SVC(kernel='rbf', C = alpha, gamma = 0.7)\n",
    "#    model.fit(X_train_clean,y_train_clean)\n",
    "#    train_score_list.append(model.score(X_train_clean,y_train_clean))\n",
    "#    test_score_list.append(model.score(X_test_clean, y_test_clean))"
   ]
  },
  {
   "cell_type": "code",
   "execution_count": null,
   "metadata": {},
   "outputs": [],
   "source": [
    "#plt.plot(x_range, train_score_list, c = 'g', label = 'Train Score')\n",
    "#plt.plot(x_range, test_score_list, c = 'b', label = 'Test Score')\n",
    "#plt.xscale('log')\n",
    "#plt.legend(loc = 3)\n",
    "#plt.xlabel('C')"
   ]
  },
  {
   "cell_type": "code",
   "execution_count": null,
   "metadata": {},
   "outputs": [],
   "source": [
    "report_table = report_table + [['Rbf Kernelized SVM', 'C = 0.001', grid_kernel_rbf.score(X_train_clean, y_train_clean),\n",
    "                               grid_kernel_rbf.score(X_test_clean, y_test_clean), roc_auc_score(y_score=y_ker_rbf_predict_train, y_true=y_train_clean),\n",
    "                               roc_auc_score(y_score=y_ker_rbf_predict, y_true=y_test_clean)]]"
   ]
  },
  {
   "cell_type": "code",
   "execution_count": null,
   "metadata": {},
   "outputs": [],
   "source": [
    "kernel_poly = SVC(kernel='poly', degree=3)\n",
    "\n",
    "param_grid = {'C':[0.001, 0.01, 0.1, 1, 10, 100]}\n",
    "\n",
    "grid_kernel_poly = GridSearchCV(kernel_poly, param_grid, cv = 5, scoring='roc_auc',return_train_score=True, n_jobs=-1)\n",
    "grid_kernel_poly.fit(X_train_clean, y_train_clean)"
   ]
  },
  {
   "cell_type": "code",
   "execution_count": null,
   "metadata": {},
   "outputs": [],
   "source": [
    "print(\"Poly Kernalized SVM Training Score: \", grid_kernel_poly.score(X_train_clean, y_train_clean))"
   ]
  },
  {
   "cell_type": "code",
   "execution_count": null,
   "metadata": {},
   "outputs": [],
   "source": [
    "print(\"Poly Kernalized SVM Testing Score: \", grid_kernel_poly.score(X_test_clean, y_test_clean))"
   ]
  },
  {
   "cell_type": "code",
   "execution_count": null,
   "metadata": {},
   "outputs": [],
   "source": [
    "print(\"Best Parameters for Poly Kernalized SVM: \", grid_kernel_poly.best_params_)"
   ]
  },
  {
   "cell_type": "code",
   "execution_count": null,
   "metadata": {},
   "outputs": [],
   "source": [
    "print(\"Poly Kernalized SVM Mean Test Scores: \", grid_kernel_poly.cv_results_['mean_test_score'])"
   ]
  },
  {
   "cell_type": "code",
   "execution_count": null,
   "metadata": {},
   "outputs": [],
   "source": [
    "y_ker_poly_predict_train = grid_kernel_poly.predict(X_train_clean)\n",
    "y_ker_poly_predict = grid_kernel_poly.predict(X_test_clean)"
   ]
  },
  {
   "cell_type": "code",
   "execution_count": null,
   "metadata": {},
   "outputs": [],
   "source": [
    "#train_score_list = []\n",
    "#test_score_list = []\n",
    "#x_range = [0.001, 0.01, 0.1, 1, 10, 100]\n",
    "\n",
    "#for alpha in x_range: \n",
    "#    model = SVC(kernel='poly', C = alpha, degree=3)\n",
    "#    model.fit(X_train_clean,y_train_clean)\n",
    "#    train_score_list.append(model.score(X_train_clean,y_train_clean))\n",
    "#    test_score_list.append(model.score(X_test_clean, y_test_clean))"
   ]
  },
  {
   "cell_type": "code",
   "execution_count": null,
   "metadata": {},
   "outputs": [],
   "source": [
    "#plt.plot(x_range, train_score_list, c = 'g', label = 'Train Score')\n",
    "#plt.plot(x_range, test_score_list, c = 'b', label = 'Test Score')\n",
    "#plt.xscale('log')\n",
    "#plt.legend(loc = 3)\n",
    "#plt.xlabel('C')"
   ]
  },
  {
   "cell_type": "code",
   "execution_count": null,
   "metadata": {},
   "outputs": [],
   "source": [
    "report_table = report_table + [['Poly Kernelized SVM', 'C = 0.1', grid_kernel_poly.score(X_train_clean, y_train_clean),\n",
    "                               grid_kernel_poly.score(X_test_clean, y_test_clean), roc_auc_score(y_score=y_ker_poly_predict_train, y_true=y_train_clean),\n",
    "                              roc_auc_score(y_score=y_ker_poly_predict, y_true=y_test_clean)]]"
   ]
  },
  {
   "cell_type": "markdown",
   "metadata": {},
   "source": [
    "### Decision Tree"
   ]
  },
  {
   "cell_type": "code",
   "execution_count": null,
   "metadata": {},
   "outputs": [],
   "source": [
    "from sklearn.tree import DecisionTreeClassifier\n",
    "\n",
    "param_grid = {'max_depth': np.arange(5, 20)}\n",
    "\n",
    "grid_tree = GridSearchCV(DecisionTreeClassifier(), param_grid,cv = 5, scoring='roc_auc', return_train_score=True)\n",
    "grid_tree.fit(X_train_clean, y_train_clean)"
   ]
  },
  {
   "cell_type": "code",
   "execution_count": null,
   "metadata": {},
   "outputs": [],
   "source": [
    "print(\"Decision Tree Training Score: \", grid_tree.score(X_train_clean, y_train_clean))"
   ]
  },
  {
   "cell_type": "code",
   "execution_count": null,
   "metadata": {},
   "outputs": [],
   "source": [
    "print(\"Decision Tree Testing Score: \", grid_tree.score(X_test_clean, y_test_clean))"
   ]
  },
  {
   "cell_type": "code",
   "execution_count": null,
   "metadata": {},
   "outputs": [],
   "source": [
    "print(\"Best Parameters for Decision Tree: \", grid_tree.best_params_)"
   ]
  },
  {
   "cell_type": "code",
   "execution_count": null,
   "metadata": {},
   "outputs": [],
   "source": [
    "print(\"Decision Tree Mean Test Scores: \", grid_tree.cv_results_['mean_test_score'])"
   ]
  },
  {
   "cell_type": "code",
   "execution_count": null,
   "metadata": {},
   "outputs": [],
   "source": [
    "y_tree_predict_train = grid_tree.predict(X_train_clean)\n",
    "y_tree_predict = grid_tree.predict(X_test_clean)"
   ]
  },
  {
   "cell_type": "code",
   "execution_count": null,
   "metadata": {},
   "outputs": [],
   "source": [
    "train_score_list = []\n",
    "test_score_list = []\n",
    "x_range = np.arange(5, 20)\n",
    "\n",
    "for alpha in x_range: \n",
    "    model = DecisionTreeClassifier(max_depth=alpha)\n",
    "    model.fit(X_train_clean,y_train_clean)\n",
    "    train_score_list.append(model.score(X_train_clean,y_train_clean))\n",
    "    test_score_list.append(model.score(X_test_clean, y_test_clean))"
   ]
  },
  {
   "cell_type": "code",
   "execution_count": null,
   "metadata": {},
   "outputs": [],
   "source": [
    "plt.plot(x_range, train_score_list, c = 'g', label = 'Train Score')\n",
    "plt.plot(x_range, test_score_list, c = 'b', label = 'Test Score')\n",
    "plt.xscale('linear')\n",
    "plt.legend(loc = 1)\n",
    "plt.xlabel('Max Depth')"
   ]
  },
  {
   "cell_type": "code",
   "execution_count": null,
   "metadata": {},
   "outputs": [],
   "source": [
    "report_table = report_table + [['Decision Tree', 'd = 5', grid_tree.score(X_train_clean, y_train_clean),\n",
    "                                grid_tree.score(X_test_clean, y_test_clean), roc_auc_score(y_score=y_tree_predict_train, y_true=y_train_clean),\n",
    "                                roc_auc_score(y_score=y_tree_predict, y_true=y_test_clean)]]"
   ]
  },
  {
   "cell_type": "code",
   "execution_count": null,
   "metadata": {},
   "outputs": [],
   "source": [
    "main_report = pd.DataFrame(report_table,columns = ['Model Name', 'Model Parameter', 'Training Accuracy',\n",
    "                                              'Testing Accuracy', 'Training AUC score', 'Testing AUC score'])"
   ]
  },
  {
   "cell_type": "code",
   "execution_count": null,
   "metadata": {},
   "outputs": [],
   "source": [
    "main_report.index = main_report['Model Name']"
   ]
  },
  {
   "cell_type": "code",
   "execution_count": null,
   "metadata": {},
   "outputs": [],
   "source": [
    "main_report.head(10)"
   ]
  },
  {
   "cell_type": "code",
   "execution_count": null,
   "metadata": {},
   "outputs": [],
   "source": [
    "graph = main_report[['Training Accuracy','Testing Accuracy','Training AUC score', 'Testing AUC score']].plot(kind='bar',\n",
    "            title = \"Comparison of Accuracies of Different Models\", figsize=(16, 10), fontsize = 7)\n",
    "plt.show()"
   ]
  },
  {
   "cell_type": "code",
   "execution_count": null,
   "metadata": {},
   "outputs": [],
   "source": []
  }
 ],
 "metadata": {
  "kernelspec": {
   "display_name": "Python 3",
   "language": "python",
   "name": "python3"
  },
  "language_info": {
   "codemirror_mode": {
    "name": "ipython",
    "version": 3
   },
   "file_extension": ".py",
   "mimetype": "text/x-python",
   "name": "python",
   "nbconvert_exporter": "python",
   "pygments_lexer": "ipython3",
   "version": "3.7.3"
  }
 },
 "nbformat": 4,
 "nbformat_minor": 2
}
